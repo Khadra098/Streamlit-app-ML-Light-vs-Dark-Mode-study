{
 "cells": [
  {
   "cell_type": "code",
   "execution_count": 53,
   "id": "c731ee65-6d98-463d-a3af-4eb0de9a7f72",
   "metadata": {},
   "outputs": [],
   "source": [
    "# mode_preference_predictor.py\n",
    "import pandas as pd\n",
    "from sklearn.model_selection import train_test_split\n",
    "from sklearn.linear_model import LogisticRegression\n",
    "from sklearn.preprocessing import LabelEncoder\n",
    "from sklearn.metrics import accuracy_score, classification_report\n",
    "import joblib\n"
   ]
  },
  {
   "cell_type": "code",
   "execution_count": 55,
   "id": "3fee3f39-8977-4509-bf2e-7a36ce4004b1",
   "metadata": {},
   "outputs": [],
   "source": [
    "# Load the original dataset\n",
    "df = pd.read_excel(\"/Users/khadramahamoud/Documents/demo dataset.xlsx\", skiprows=1)\n",
    "df.columns = df.columns.str.strip()\n"
   ]
  },
  {
   "cell_type": "code",
   "execution_count": 57,
   "id": "bb617375-dd2f-42e9-98a3-69925bf041cd",
   "metadata": {},
   "outputs": [],
   "source": [
    "# Keep only demographic and usage-based columns for designers\n",
    "features_for_designers = [\n",
    "    'age_group', 'gender', 'device_usage_frequency', 'primary_use',\n",
    "    'usual_mode', 'eye_strain_experience', 'mode_choice_factors',\n",
    "    'daily_screen_time'\n",
    "]"
   ]
  },
  {
   "cell_type": "code",
   "execution_count": 59,
   "id": "4288e4d5-034d-47eb-93ea-2c11bbf06a29",
   "metadata": {},
   "outputs": [],
   "source": [
    "# Encode categorical features\n",
    "label_encoders = {}\n",
    "for col in features_for_designers:\n",
    "    le = LabelEncoder()\n",
    "    df[col] = le.fit_transform(df[col])\n",
    "    label_encoders[col] = le\n",
    "    "
   ]
  },
  {
   "cell_type": "code",
   "execution_count": 61,
   "id": "46f07c94-187f-44ed-9fec-36a6ad53b152",
   "metadata": {},
   "outputs": [],
   "source": [
    "# Encode target\n",
    "target_encoder = LabelEncoder()\n",
    "df['preferred_mode'] = target_encoder.fit_transform(df['preferred_mode'])\n"
   ]
  },
  {
   "cell_type": "code",
   "execution_count": 63,
   "id": "cad4a5d5-356c-44f0-a52e-499c3cd0a748",
   "metadata": {},
   "outputs": [],
   "source": [
    "# Select features and target\n",
    "df = df.dropna(subset=features_for_designers)  # in case any missing\n",
    "X = df[features_for_designers]\n",
    "y = df['preferred_mode']"
   ]
  },
  {
   "cell_type": "code",
   "execution_count": 65,
   "id": "4860f899-570a-4166-aca0-78b835f0b28e",
   "metadata": {},
   "outputs": [],
   "source": [
    "# Train/test split\n",
    "X_train, X_test, y_train, y_test = train_test_split(X, y, test_size=0.2, random_state=42)\n"
   ]
  },
  {
   "cell_type": "code",
   "execution_count": 67,
   "id": "0b773df1-1ac8-4c3c-9850-f41cd7a6cc3e",
   "metadata": {},
   "outputs": [],
   "source": [
    "# Train logistic regression\n",
    "designer_model = LogisticRegression(max_iter=1000, random_state=42)\n",
    "designer_model.fit(X_train, y_train)\n",
    "y_pred = designer_model.predict(X_test)\n"
   ]
  },
  {
   "cell_type": "code",
   "execution_count": 69,
   "id": "0a007f46-5fe6-4099-8106-826f38aec9b4",
   "metadata": {},
   "outputs": [
    {
     "name": "stdout",
     "output_type": "stream",
     "text": [
      "\n",
      "🧠 Designer-Focused Model Results\n",
      "Accuracy: 0.7\n",
      "\n",
      "Classification Report:\n",
      "               precision    recall  f1-score   support\n",
      "\n",
      "        dark       0.75      0.60      0.67         5\n",
      "       light       0.67      0.80      0.73         5\n",
      "\n",
      "    accuracy                           0.70        10\n",
      "   macro avg       0.71      0.70      0.70        10\n",
      "weighted avg       0.71      0.70      0.70        10\n",
      "\n"
     ]
    }
   ],
   "source": [
    "# Output results\n",
    "print(\"\\n🧠 Designer-Focused Model Results\")\n",
    "print(\"Accuracy:\", accuracy_score(y_test, y_pred))\n",
    "print(\"\\nClassification Report:\\n\", classification_report(y_test, y_pred, target_names=target_encoder.classes_))\n"
   ]
  },
  {
   "cell_type": "code",
   "execution_count": 71,
   "id": "b8617654-4c1c-4c7a-9e3f-fc273aa74799",
   "metadata": {},
   "outputs": [
    {
     "data": {
      "text/plain": [
       "['designer_label_encoders.pkl']"
      ]
     },
     "execution_count": 71,
     "metadata": {},
     "output_type": "execute_result"
    }
   ],
   "source": [
    "# Save model and encoders\n",
    "joblib.dump(designer_model, \"designer_mode_predictor.pkl\")\n",
    "joblib.dump(target_encoder, \"target_encoder.pkl\")\n",
    "joblib.dump(label_encoders, \"designer_label_encoders.pkl\")\n"
   ]
  },
  {
   "cell_type": "code",
   "execution_count": null,
   "id": "98bd3a61-7282-4837-8086-c755dcfda3bb",
   "metadata": {},
   "outputs": [],
   "source": []
  },
  {
   "cell_type": "code",
   "execution_count": null,
   "id": "53a16189-2e2d-4715-83af-7915f8c85da3",
   "metadata": {},
   "outputs": [],
   "source": []
  },
  {
   "cell_type": "code",
   "execution_count": null,
   "id": "20495143-0cda-4e97-9db1-18d984da6ac3",
   "metadata": {},
   "outputs": [],
   "source": []
  },
  {
   "cell_type": "code",
   "execution_count": null,
   "id": "ae6bdff5-af7e-429a-a9fc-c376f41e008c",
   "metadata": {},
   "outputs": [],
   "source": []
  },
  {
   "cell_type": "code",
   "execution_count": null,
   "id": "d0b6fd9a-17f3-4215-acba-3f891165b07b",
   "metadata": {},
   "outputs": [],
   "source": []
  },
  {
   "cell_type": "code",
   "execution_count": null,
   "id": "89a3da63-161c-4b4b-91e7-3bad7ef97fbd",
   "metadata": {},
   "outputs": [],
   "source": []
  }
 ],
 "metadata": {
  "kernelspec": {
   "display_name": "Python [conda env:base] *",
   "language": "python",
   "name": "conda-base-py"
  },
  "language_info": {
   "codemirror_mode": {
    "name": "ipython",
    "version": 3
   },
   "file_extension": ".py",
   "mimetype": "text/x-python",
   "name": "python",
   "nbconvert_exporter": "python",
   "pygments_lexer": "ipython3",
   "version": "3.12.2"
  }
 },
 "nbformat": 4,
 "nbformat_minor": 5
}
